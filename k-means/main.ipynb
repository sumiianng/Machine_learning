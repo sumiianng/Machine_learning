{
 "cells": [
  {
   "cell_type": "markdown",
   "id": "4e72145b",
   "metadata": {},
   "source": [
    "# K-Means Algorithm\n",
    "In the project, we produce some data with no label, and try to do the cluster analysis by using k-means algorithm."
   ]
  },
  {
   "cell_type": "markdown",
   "id": "6f9781fc",
   "metadata": {},
   "source": [
    "### 1. import modules"
   ]
  },
  {
   "cell_type": "code",
   "execution_count": 1,
   "id": "ddb06147",
   "metadata": {},
   "outputs": [],
   "source": [
    "import numpy as np\n",
    "import matplotlib.pyplot as plt\n",
    "from kmeans import KMeans"
   ]
  },
  {
   "cell_type": "markdown",
   "id": "3fd5eecc",
   "metadata": {},
   "source": [
    "### Data\n",
    "Produce the data and show the data with labels and without labels."
   ]
  },
  {
   "cell_type": "code",
   "execution_count": 2,
   "id": "3a7c4708",
   "metadata": {},
   "outputs": [],
   "source": [
    "n = 15\n",
    "x1 = np.random.randn(n, 2)\n",
    "x2 = np.random.randn(n, 2) + np.array([1, 3])\n",
    "x3 = np.random.randn(n, 2) + np.array([4, 4])\n",
    "x = np.concatenate((x1, x2, x3), axis=0)"
   ]
  },
  {
   "cell_type": "code",
   "execution_count": 3,
   "id": "d636e90e",
   "metadata": {},
   "outputs": [
    {
     "data": {
      "image/png": "[encoded data removed]",
      "text/plain": [
       "<Figure size 432x288 with 1 Axes>"
      ]
     },
     "metadata": {
      "needs_background": "light"
     },
     "output_type": "display_data"
    }
   ],
   "source": [
    "fig = plt.figure()\n",
    "ax = fig.add_subplot(111)\n",
    "ax.plot(x[:, 0], x[:, 1], 'o')\n",
    "ax.set_title(\"Data with labels\")\n",
    "fig.savefig(\"Data_with_labels\")\n",
    "plt.show()"
   ]
  },
  {
   "cell_type": "code",
   "execution_count": 4,
   "id": "2c08f1e6",
   "metadata": {},
   "outputs": [
    {
     "data": {
      "image/png": "[encoded data removed]",
      "text/plain": [
       "<Figure size 432x288 with 1 Axes>"
      ]
     },
     "metadata": {
      "needs_background": "light"
     },
     "output_type": "display_data"
    }
   ],
   "source": [
    "fig = plt.figure()\n",
    "ax = fig.add_subplot(111)\n",
    "ax.plot(x1[:, 0], x1[:, 1], 'o')\n",
    "ax.plot(x2[:, 0], x2[:, 1], 'o')\n",
    "ax.plot(x3[:, 0], x3[:, 1], 'o')\n",
    "ax.set_title(\"Data without labels\")\n",
    "fig.savefig(\"Data_without_labels\")\n",
    "plt.show()"
   ]
  },
  {
   "cell_type": "markdown",
   "id": "508b9f5b",
   "metadata": {},
   "source": [
    "### 3. Training\n",
    "Set the value of k and Train the model by using k-means algorithm."
   ]
  },
  {
   "cell_type": "code",
   "execution_count": 5,
   "id": "3943f97d",
   "metadata": {},
   "outputs": [
    {
     "name": "stdout",
     "output_type": "stream",
     "text": [
      "Epoch:  1   Error: 7.56\n",
      "Epoch:  2   Error: 1.48\n",
      "Epoch:  3   Error: 1.16\n",
      "Epoch:  4   Error: 1.84\n",
      "Epoch:  5   Error: 1.09\n",
      "Epoch:  6   Error: 0.14\n",
      "Epoch:  7   Error: 0.00\n"
     ]
    }
   ],
   "source": [
    "k = 3\n",
    "km = KMeans(k)\n",
    "t = km.train(x)"
   ]
  },
  {
   "cell_type": "markdown",
   "id": "c58fb7b6",
   "metadata": {},
   "source": [
    "### 4. Results\n",
    "Show the result of training."
   ]
  },
  {
   "cell_type": "code",
   "execution_count": 6,
   "id": "490fba7a",
   "metadata": {},
   "outputs": [
    {
     "data": {
      "image/png": "[encoded data removed]",
      "text/plain": [
       "<Figure size 432x288 with 1 Axes>"
      ]
     },
     "metadata": {
      "needs_background": "light"
     },
     "output_type": "display_data"
    }
   ],
   "source": [
    "fig = plt.figure()\n",
    "ax = fig.add_subplot(111)\n",
    "for i in range(k):\n",
    "    ax.plot(x[t==i, 0], x[t==i, 1], 'o')\n",
    "ax.set_title(\"Results\")\n",
    "fig.savefig(\"Results\")\n",
    "plt.show()"
   ]
  }
 ],
 "metadata": {
  "kernelspec": {
   "display_name": "Python 3",
   "language": "python",
   "name": "python3"
  },
  "language_info": {
   "codemirror_mode": {
    "name": "ipython",
    "version": 3
   },
   "file_extension": ".py",
   "mimetype": "text/x-python",
   "name": "python",
   "nbconvert_exporter": "python",
   "pygments_lexer": "ipython3",
   "version": "3.8.8"
  }
 },
 "nbformat": 4,
 "nbformat_minor": 5
}
